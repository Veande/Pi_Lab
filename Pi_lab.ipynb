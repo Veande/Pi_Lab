{
  "nbformat": 4,
  "nbformat_minor": 0,
  "metadata": {
    "colab": {
      "name": "Pi_lab.ipynb",
      "provenance": [],
      "collapsed_sections": []
    },
    "kernelspec": {
      "name": "python3",
      "display_name": "Python 3"
    },
    "accelerator": "GPU"
  },
  "cells": [
    {
      "cell_type": "code",
      "metadata": {
        "colab": {
          "base_uri": "https://localhost:8080/"
        },
        "id": "5Sdhccm5tj-j",
        "outputId": "59019211-55d3-4eba-f1ec-89df6b436dc8"
      },
      "source": [
        "! pip install pycuda"
      ],
      "execution_count": 1,
      "outputs": [
        {
          "output_type": "stream",
          "text": [
            "Collecting pycuda\n",
            "\u001b[?25l  Downloading https://files.pythonhosted.org/packages/46/61/47d3235a4c13eec5a5f03594ddb268f4858734e02980afbcd806e6242fa5/pycuda-2020.1.tar.gz (1.6MB)\n",
            "\u001b[K     |████████████████████████████████| 1.6MB 9.8MB/s \n",
            "\u001b[?25hCollecting pytools>=2011.2\n",
            "\u001b[?25l  Downloading https://files.pythonhosted.org/packages/46/8a/149fa553998155f0a90d92cdbbc60f6c998cc9ad5fe0441b2b82628d001a/pytools-2021.1.tar.gz (62kB)\n",
            "\u001b[K     |████████████████████████████████| 71kB 11.0MB/s \n",
            "\u001b[?25hRequirement already satisfied: decorator>=3.2.0 in /usr/local/lib/python3.6/dist-packages (from pycuda) (4.4.2)\n",
            "Collecting appdirs>=1.4.0\n",
            "  Downloading https://files.pythonhosted.org/packages/3b/00/2344469e2084fb287c2e0b57b72910309874c3245463acd6cf5e3db69324/appdirs-1.4.4-py2.py3-none-any.whl\n",
            "Collecting mako\n",
            "\u001b[?25l  Downloading https://files.pythonhosted.org/packages/5c/db/2d2d88b924aa4674a080aae83b59ea19d593250bfe5ed789947c21736785/Mako-1.1.4.tar.gz (479kB)\n",
            "\u001b[K     |████████████████████████████████| 481kB 46.1MB/s \n",
            "\u001b[?25hRequirement already satisfied: numpy>=1.6.0 in /usr/local/lib/python3.6/dist-packages (from pytools>=2011.2->pycuda) (1.19.5)\n",
            "Requirement already satisfied: dataclasses>=0.7 in /usr/local/lib/python3.6/dist-packages (from pytools>=2011.2->pycuda) (0.8)\n",
            "Requirement already satisfied: MarkupSafe>=0.9.2 in /usr/local/lib/python3.6/dist-packages (from mako->pycuda) (1.1.1)\n",
            "Building wheels for collected packages: pycuda, pytools, mako\n",
            "  Building wheel for pycuda (setup.py) ... \u001b[?25l\u001b[?25hdone\n",
            "  Created wheel for pycuda: filename=pycuda-2020.1-cp36-cp36m-linux_x86_64.whl size=621766 sha256=1b6754dc2d75433533fc9ea50187adb683d6cb55deb6e5bb4abca43552911e17\n",
            "  Stored in directory: /root/.cache/pip/wheels/8f/78/d1/5bb826f81d9d490297a348d818ff3ee6dd6f2075b06dde6ea0\n",
            "  Building wheel for pytools (setup.py) ... \u001b[?25l\u001b[?25hdone\n",
            "  Created wheel for pytools: filename=pytools-2021.1-py2.py3-none-any.whl size=60415 sha256=168575ebb309150582076966e0a0a7a31824f8d24e59ef020f62e64453b4eac8\n",
            "  Stored in directory: /root/.cache/pip/wheels/5d/85/10/7da05d77b47f2cb503e5c4185ba82187d0b6b6736b3c6641e0\n",
            "  Building wheel for mako (setup.py) ... \u001b[?25l\u001b[?25hdone\n",
            "  Created wheel for mako: filename=Mako-1.1.4-py2.py3-none-any.whl size=75675 sha256=3537ee836a700536e6eccd19b17ba5108d2343504499f9af3b3d44278c692ecf\n",
            "  Stored in directory: /root/.cache/pip/wheels/ad/10/d3/aeb26e20d19045e2a68e5d3cbb57432e11b5d9c92c99f98d47\n",
            "Successfully built pycuda pytools mako\n",
            "Installing collected packages: appdirs, pytools, mako, pycuda\n",
            "Successfully installed appdirs-1.4.4 mako-1.1.4 pycuda-2020.1 pytools-2021.1\n"
          ],
          "name": "stdout"
        }
      ]
    },
    {
      "cell_type": "code",
      "metadata": {
        "colab": {
          "base_uri": "https://localhost:8080/"
        },
        "id": "xvnXx11btwtA",
        "outputId": "d3394e79-42e8-4640-8f28-04e2024b3b49"
      },
      "source": [
        "!pip install py-cpuinfo"
      ],
      "execution_count": 2,
      "outputs": [
        {
          "output_type": "stream",
          "text": [
            "Collecting py-cpuinfo\n",
            "\u001b[?25l  Downloading https://files.pythonhosted.org/packages/f6/f5/8e6e85ce2e9f6e05040cf0d4e26f43a4718bcc4bce988b433276d4b1a5c1/py-cpuinfo-7.0.0.tar.gz (95kB)\n",
            "\r\u001b[K     |███▍                            | 10kB 20.1MB/s eta 0:00:01\r\u001b[K     |██████▉                         | 20kB 17.4MB/s eta 0:00:01\r\u001b[K     |██████████▎                     | 30kB 10.4MB/s eta 0:00:01\r\u001b[K     |█████████████▊                  | 40kB 8.7MB/s eta 0:00:01\r\u001b[K     |█████████████████               | 51kB 7.4MB/s eta 0:00:01\r\u001b[K     |████████████████████▌           | 61kB 7.8MB/s eta 0:00:01\r\u001b[K     |████████████████████████        | 71kB 8.0MB/s eta 0:00:01\r\u001b[K     |███████████████████████████▍    | 81kB 7.8MB/s eta 0:00:01\r\u001b[K     |██████████████████████████████▊ | 92kB 8.2MB/s eta 0:00:01\r\u001b[K     |████████████████████████████████| 102kB 6.1MB/s \n",
            "\u001b[?25hBuilding wheels for collected packages: py-cpuinfo\n",
            "  Building wheel for py-cpuinfo (setup.py) ... \u001b[?25l\u001b[?25hdone\n",
            "  Created wheel for py-cpuinfo: filename=py_cpuinfo-7.0.0-cp36-none-any.whl size=20072 sha256=5f91860efa9d2f5b9ddc2ce7ca432d4e82969de2522c129921aa766f88fc3d36\n",
            "  Stored in directory: /root/.cache/pip/wheels/f1/93/7b/127daf0c3a5a49feb2fecd468d508067c733fba5192f726ad1\n",
            "Successfully built py-cpuinfo\n",
            "Installing collected packages: py-cpuinfo\n",
            "Successfully installed py-cpuinfo-7.0.0\n"
          ],
          "name": "stdout"
        }
      ]
    },
    {
      "cell_type": "code",
      "metadata": {
        "colab": {
          "base_uri": "https://localhost:8080/",
          "height": 35
        },
        "id": "DvjTNjYnxEed",
        "outputId": "4cf6e1cc-9b33-40e8-aa73-63a73a71efff"
      },
      "source": [
        "import cpuinfo\r\n",
        "cpuinfo.get_cpu_info()['brand_raw']"
      ],
      "execution_count": 3,
      "outputs": [
        {
          "output_type": "execute_result",
          "data": {
            "application/vnd.google.colaboratory.intrinsic+json": {
              "type": "string"
            },
            "text/plain": [
              "'Intel(R) Xeon(R) CPU @ 2.20GHz'"
            ]
          },
          "metadata": {
            "tags": []
          },
          "execution_count": 3
        }
      ]
    },
    {
      "cell_type": "code",
      "metadata": {
        "colab": {
          "base_uri": "https://localhost:8080/"
        },
        "id": "qPf2F-3W6Knm",
        "outputId": "a556c452-7d56-41fc-e800-4e2194bd6eae"
      },
      "source": [
        "!nvidia-smi"
      ],
      "execution_count": 4,
      "outputs": [
        {
          "output_type": "stream",
          "text": [
            "Wed Jan 27 12:56:02 2021       \n",
            "+-----------------------------------------------------------------------------+\n",
            "| NVIDIA-SMI 460.32.03    Driver Version: 418.67       CUDA Version: 10.1     |\n",
            "|-------------------------------+----------------------+----------------------+\n",
            "| GPU  Name        Persistence-M| Bus-Id        Disp.A | Volatile Uncorr. ECC |\n",
            "| Fan  Temp  Perf  Pwr:Usage/Cap|         Memory-Usage | GPU-Util  Compute M. |\n",
            "|                               |                      |               MIG M. |\n",
            "|===============================+======================+======================|\n",
            "|   0  Tesla T4            Off  | 00000000:00:04.0 Off |                    0 |\n",
            "| N/A   50C    P8    10W /  70W |      0MiB / 15079MiB |      0%      Default |\n",
            "|                               |                      |                 ERR! |\n",
            "+-------------------------------+----------------------+----------------------+\n",
            "                                                                               \n",
            "+-----------------------------------------------------------------------------+\n",
            "| Processes:                                                                  |\n",
            "|  GPU   GI   CI        PID   Type   Process name                  GPU Memory |\n",
            "|        ID   ID                                                   Usage      |\n",
            "|=============================================================================|\n",
            "|  No running processes found                                                 |\n",
            "+-----------------------------------------------------------------------------+\n"
          ],
          "name": "stdout"
        }
      ]
    },
    {
      "cell_type": "code",
      "metadata": {
        "id": "pT7b5ZxT3rsW"
      },
      "source": [
        "import pycuda.gpuarray as gpuarray\r\n",
        "import pycuda.autoinit\r\n",
        "from  pycuda import  driver\r\n",
        "from pycuda.compiler import SourceModule\r\n",
        "import numpy as np\r\n",
        "import time\r\n",
        "from pycuda.curandom import rand as curand"
      ],
      "execution_count": 111,
      "outputs": []
    },
    {
      "cell_type": "code",
      "metadata": {
        "id": "QJv8-o7Y1yH5"
      },
      "source": [
        "#алгоритм для GPU\r\n",
        "mod = SourceModule(\"\"\"\r\n",
        "  __global__ void pi_gpu(double *x, double *y, double *res_gpu, const int n) {\r\n",
        "        \r\n",
        "        int count_gpu = 0;\r\n",
        "        int idx = threadIdx.x + (blockIdx.x*blockDim.x);\r\n",
        "        int thread_count = gridDim.x*blockDim.x;\r\n",
        "\r\n",
        "        for (int i=idx; i<n; i += thread_count) {\r\n",
        "          int v;\r\n",
        "          v = pow(x[i], 2) + pow(y[i], 2);\r\n",
        "          if (v < 1)\r\n",
        "            count_gpu += 1;\r\n",
        "          \r\n",
        "        }\r\n",
        "\r\n",
        "        atomicAdd(res_gpu, count_gpu);\r\n",
        "  }    \r\n",
        "\"\"\")"
      ],
      "execution_count": 131,
      "outputs": []
    },
    {
      "cell_type": "code",
      "metadata": {
        "id": "Z2lghY063m-9"
      },
      "source": [
        "#алгоритм для CPU\r\n",
        "def pi_cpu(x, y, n):\r\n",
        "  count_cpu = 0\r\n",
        "  v = x ** 2 + y ** 2\r\n",
        "  for i in range(n):\r\n",
        "    if v[i] < 1:\r\n",
        "      count_cpu += 1\r\n",
        "  res = count_cpu * 4/n \r\n",
        "  return res"
      ],
      "execution_count": 97,
      "outputs": []
    },
    {
      "cell_type": "code",
      "metadata": {
        "id": "SOi1M7jO8bIK"
      },
      "source": [
        "def generate_points():\r\n",
        "  print('Введите число точек: ')\r\n",
        "  n = int(input())\r\n",
        "\r\n",
        "  x_gpu = curand((n,), dtype=np.double) \r\n",
        "  y_gpu = curand((n,), dtype=np.double)\r\n",
        "  x = x_gpu.get().astype(np.double)\r\n",
        "  y = y_gpu.get().astype(np.double)\r\n",
        "  return x, y, n"
      ],
      "execution_count": 164,
      "outputs": []
    },
    {
      "cell_type": "code",
      "metadata": {
        "colab": {
          "base_uri": "https://localhost:8080/"
        },
        "id": "0X8rVSWa_bi4",
        "outputId": "4dc9b674-2f22-4c8c-838f-43e17ea9b412"
      },
      "source": [
        "x, y, n = generate_points()"
      ],
      "execution_count": 169,
      "outputs": [
        {
          "output_type": "stream",
          "text": [
            "Введите число точек: \n",
            "1000000\n"
          ],
          "name": "stdout"
        }
      ]
    },
    {
      "cell_type": "code",
      "metadata": {
        "colab": {
          "base_uri": "https://localhost:8080/"
        },
        "id": "LNsMzIif_fHm",
        "outputId": "2db27b31-f798-42e2-ed75-5b4086c1a0f7"
      },
      "source": [
        "cpu_start = time.time()\r\n",
        "res_cpu = pi_cpu(x,y,n)\r\n",
        "cpu_time = time.time() - cpu_start\r\n",
        "print('Число Пи: ', res_cpu)\r\n",
        "print('Время на CPU: ', round(cpu_time,5))"
      ],
      "execution_count": 170,
      "outputs": [
        {
          "output_type": "stream",
          "text": [
            "Число Пи:  3.142152\n",
            "Время на CPU:  0.35473\n"
          ],
          "name": "stdout"
        }
      ]
    },
    {
      "cell_type": "code",
      "metadata": {
        "colab": {
          "base_uri": "https://localhost:8080/"
        },
        "id": "h1h3Kkek_z2w",
        "outputId": "bbbdfbf5-ccfb-48d7-dffc-5b84ae8b2ca2"
      },
      "source": [
        "block = (32, 1, 1)\r\n",
        "grid = (int(n/(32 * block[0])), 1)\r\n",
        "\r\n",
        "res_gpu = gpuarray.zeros((1,), dtype=np.double)\r\n",
        "res_gpu  = res_gpu.get()\r\n",
        "\r\n",
        "gpu = mod.get_function(\"pi_gpu\")\r\n",
        "\r\n",
        "gpu_start = time.time()\r\n",
        "gpu(driver.In(x), driver.In(y), driver.Out(res_gpu), np.int32(n), block = block, grid = grid)\r\n",
        "driver.Context.synchronize()\r\n",
        "gpu_time = time.time() - gpu_start\r\n",
        "\r\n",
        "res_gpu =  res_gpu[0] * 4/n\r\n",
        "print('Число Пи: ', res_gpu)\r\n",
        "print('Время на GPU: ', round(gpu_time,5))"
      ],
      "execution_count": 171,
      "outputs": [
        {
          "output_type": "stream",
          "text": [
            "Число Пи:  3.142152\n",
            "Время на GPU:  0.01023\n"
          ],
          "name": "stdout"
        }
      ]
    },
    {
      "cell_type": "code",
      "metadata": {
        "colab": {
          "base_uri": "https://localhost:8080/"
        },
        "id": "6m5kZUEK_1sn",
        "outputId": "e12a258b-6b6a-4543-bb35-e91e7bd95ffe"
      },
      "source": [
        "print('Ускорение: ', cpu_time/gpu_time)"
      ],
      "execution_count": 172,
      "outputs": [
        {
          "output_type": "stream",
          "text": [
            "Ускорение:  34.691801902630104\n"
          ],
          "name": "stdout"
        }
      ]
    },
    {
      "cell_type": "code",
      "metadata": {
        "id": "K59D9tw9HzLQ"
      },
      "source": [
        ""
      ],
      "execution_count": null,
      "outputs": []
    }
  ]
}